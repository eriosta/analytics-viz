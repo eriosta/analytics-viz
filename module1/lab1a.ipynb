{
 "cells": [
  {
   "cell_type": "code",
   "execution_count": 1,
   "metadata": {},
   "outputs": [],
   "source": [
    "# Eri Osta\n",
    "# ads829"
   ]
  },
  {
   "cell_type": "markdown",
   "metadata": {},
   "source": [
    "## Lab 1A - Combinations\n",
    "\n",
    "<em>Lab 1 consist of three exercises. This is the first of three exercises in Lab 1, which will cover functions and basic mathematical operations.</em>\n",
    "\n",
    "The main task is to write functions that will compute the number of combinations you can make from n items in sets of r items. \n",
    "\n",
    "$$ {n \\choose r }  = \\frac{ n! }{ r!( n - r )! } $$\n",
    "\n",
    "**Tasks**\n",
    "\n",
    "1. Write a function that computes the factorial named  ```factorial```. It takes in one parameter: ```n``` the value that you are finding the value of. Assume that the parameter value will always be a whole number. The function returns the factorial of the parameter value. If the function is called with a negative number, return -1.\n",
    "2. Write a function that computes the combination named  ```combination```. It takes in two parameters: ```n``` is the total number of items and ```n``` is the number of items in the set. Assume that both parameter values will always be a whole number. The function returns the value of n choose r. This function will call the ```factorial()``` function. If the function is called with a negative number for either of the parameters OR ```r``` is greater than n, return -1.\n",
    "3. Add function comments to both functions."
   ]
  },
  {
   "cell_type": "code",
   "execution_count": 2,
   "metadata": {},
   "outputs": [],
   "source": [
    "def factorial( n ):\n",
    "    \"\"\"Function to calculate factorial. The function will return -1 for n < 0. \n",
    "    Args:\n",
    "        n: whole number\n",
    "    Returns:\n",
    "        Factorial of n\n",
    "    \"\"\"\n",
    "    if n < 0:\n",
    "        return -1\n",
    "    else:\n",
    "        factorial = 1\n",
    "        for i in range(2, n + 1):\n",
    "            factorial = factorial * i\n",
    "        return factorial\n",
    "\n",
    "def combination( n, r ):\n",
    "    \"\"\"Function to calculate combination. The function will return -1 for n < 0, r < 0, or r > n. \n",
    "    Args:\n",
    "        n: whole number, total number of items\n",
    "        r: whole number, total number of items in the set\n",
    "    Returns:\n",
    "        Combination of n and r\n",
    "    \"\"\"\n",
    "    if n < 0 or r < 0 or r > n:\n",
    "        return -1\n",
    "    a = factorial(n)\n",
    "    b = factorial(n-r)\n",
    "    c = factorial(r)\n",
    "    return a/(b*c)"
   ]
  }
 ],
 "metadata": {
  "celltoolbar": "Create Assignment",
  "kernelspec": {
   "display_name": "base",
   "language": "python",
   "name": "python3"
  },
  "language_info": {
   "codemirror_mode": {
    "name": "ipython",
    "version": 3
   },
   "file_extension": ".py",
   "mimetype": "text/x-python",
   "name": "python",
   "nbconvert_exporter": "python",
   "pygments_lexer": "ipython3",
   "version": "3.10.8"
  },
  "vscode": {
   "interpreter": {
    "hash": "42b2f54048e729699c212decb235f393fd0cdb8b24a5008a47c48e8faa6a3c0d"
   }
  }
 },
 "nbformat": 4,
 "nbformat_minor": 4
}
