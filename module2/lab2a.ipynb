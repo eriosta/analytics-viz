{
 "cells": [
  {
   "cell_type": "code",
   "execution_count": null,
   "metadata": {},
   "outputs": [],
   "source": [
    "# Firstname Lastname\n",
    "# abc123"
   ]
  },
  {
   "cell_type": "markdown",
   "metadata": {},
   "source": [
    "## Lab 2A\n",
    "\n",
    "<em>Lab 2 consists of two exercises. This is the first of two exercises in Lab 2, which will cover ``` numpy```  arrays, linear algebra, ```DataFrame```s, and Seaborn. Be sure to watch the video on connecting to the Yahoo finance module, which will be used to get a ```DataFrame``` with data for us before starting.  </em>\n",
    "\n",
    "### Your Portfolio\n",
    "\n",
    "Assume you have the following portfolio of stocks including the number of shares (the quantity) of each stock. You will write a program that will determine the best day in the month of May 2021 to buy or sell the portfolio based on the closing price of the day.\n",
    "\n",
    "| Currency    | Symbol | Quantity |\n",
    "| ------------|--------|--------- |\n",
    "| Apple       | AAPL   | 20       |\n",
    "| Beyond Meat | BYND   | 30       |\n",
    "| Chevron     | CVX    | 40       |\n",
    "| GameStop    | GME    | 50       |\n",
    "| Moderna     | MRNA   | 60       |\n",
    "\n",
    "The best day to buy the stocks is when the total closing prices for the portfolio is at the lowest. The best day to sell the stocks is when the toal closing prices for the portfolio is at the highest. Also, assume that you have to buy all or sell all on the same day.  You will use the Yahoo Finance module to assist you in the project. \n",
    "\n",
    "### About Yahoo Finance Module\n",
    "\n",
    "The Yahoo Finance Module (```yfinance```) gives you access to real-time and historical stock data. To use the Yahoo finance module, you first need to install it. To install the Yahoo Finance Module, run the following command:\n",
    "\n",
    "```\n",
    "pip install yfinance\n",
    "```\n",
    "\n",
    "After you have installed the module, you will need to import it into the program. \n",
    "\n",
    "```\n",
    "import yfinance as yf\n",
    "```\n",
    "\n",
    "Access the functions through ```yf```. You will only be using the ```download()``` function to get the prices for a given stock during a given time span. Remember that The first line is done for you below.\n",
    "\n",
    "### Tasks\n",
    "\n",
    "You will do the following\n",
    "1. The starter code has been created for you. Specifically, there is an example of how you will access historical stock data from Yahoo Finance module. Adapt and use this sample code to get the required data for the stocks above. The stock symbols are provided above, which is needed for the ```tickers``` parameter.\n",
    "2. Create a 2D NumPy array which represent the number of shares per stock. Then use the dot product, to find the value of the entire portfolio for each day in May. Create a data frame with the dates and the portfolio values.\n",
    "3. Create a lineplot using seaborn that plots the prices for each stock. The x axis are the days (they can just be days numbered 0 through 20). The y axis is the price of the stocks. HINT: use the ```pd.melt()``` function to reconfigure the ```DataFrame``` so you can plot multiple lines using the ```hue``` parameter in the ```lineplot()``` function. After calling ```pd.melt()```, name the value column ```'Price'``` and the variable (column) name ```'Stock'```.\n",
    "4. Answer the questions below."
   ]
  },
  {
   "cell_type": "code",
   "execution_count": 171,
   "metadata": {},
   "outputs": [
    {
     "name": "stdout",
     "output_type": "stream",
     "text": [
      "[*********************100%***********************]  2 of 2 completed\n",
      "             AMC        TSLA\n",
      "Date                        \n",
      "2020-03-02  6.11  148.723999\n",
      "2020-03-03  5.81  149.102005\n",
      "2020-03-04  5.82  149.899994\n",
      "2020-03-05  4.92  144.908005\n",
      "2020-03-06  4.53  140.695999\n",
      "2020-03-09  3.85  121.599998\n",
      "2020-03-10  4.20  129.065994\n",
      "2020-03-11  3.64  126.846001\n",
      "2020-03-12  2.91  112.110001\n",
      "2020-03-13  3.22  109.323997\n",
      "2020-03-16  2.60   89.014000\n",
      "2020-03-17  2.48   86.040001\n",
      "2020-03-18  2.47   72.244003\n",
      "2020-03-19  3.37   85.528000\n",
      "2020-03-20  3.19   85.505997\n",
      "2020-03-23  3.15   86.858002\n",
      "2020-03-24  3.56  101.000000\n",
      "2020-03-25  3.46  107.849998\n",
      "2020-03-26  3.70  105.632004\n",
      "2020-03-27  3.60  102.872002\n"
     ]
    }
   ],
   "source": [
    "import matplotlib.pyplot as plt\n",
    "import seaborn as sns\n",
    "import numpy as np\n",
    "import yfinance as yf\n",
    "\n",
    "# This is an example code to download the historic stock price data during March 2020 for AMC and TSLA (Tesla)\n",
    "# stock. It will collect the data in intervals of one day. You will get a DataFrame of closing \n",
    "# prices for each day. The index of row is the TimeStamp for each day. This line also extracts the \n",
    "# 'Close' column as we are using that to determine # the price of each stock. \n",
    "price_data = yf.download( tickers=['AMC','TSLA'], start='2020-03-01', end='2020-03-30', interval='1d' )[ 'Close' ] \n",
    "print( price_data )"
   ]
  },
  {
   "cell_type": "code",
   "execution_count": 169,
   "metadata": {},
   "outputs": [
    {
     "data": {
      "text/plain": [
       "<Figure size 792x576 with 0 Axes>"
      ]
     },
     "metadata": {},
     "output_type": "display_data"
    }
   ],
   "source": [
    "# Starter code for your figure\n",
    "fig = plt.figure( figsize=(11,8) )\n",
    "\n",
    "# Your code goes here\n",
    "\n",
    "\n",
    "plt.show()"
   ]
  },
  {
   "cell_type": "markdown",
   "metadata": {},
   "source": [
    "### Questions\n",
    "\n",
    "Answer the following questions:\n",
    "\n",
    "1. Given the quantities of each stock listed above, which is the best day to BUY those stocks? That is, which day was the cheapest to buy those stocks? How much will it cost to make all the purchases in that portfolio on that day? \n",
    "\n",
    "2. Given the quantities of each stock list above, which is the best day to SELL those stocks? That is, which day did the portfolio have the highest total values? How much will we get if we sold all the stocks in that portfolio on that day?\n",
    "\n",
    "3. Select one of the stocks that had some sizeable movements in prices. Briefly describe what happened with that company that caused those movements. "
   ]
  },
  {
   "cell_type": "markdown",
   "metadata": {},
   "source": [
    "### Answers\n",
    "\n",
    "Write your answers here."
   ]
  },
  {
   "cell_type": "code",
   "execution_count": null,
   "metadata": {},
   "outputs": [],
   "source": []
  }
 ],
 "metadata": {
  "kernelspec": {
   "display_name": "base",
   "language": "python",
   "name": "python3"
  },
  "language_info": {
   "codemirror_mode": {
    "name": "ipython",
    "version": 3
   },
   "file_extension": ".py",
   "mimetype": "text/x-python",
   "name": "python",
   "nbconvert_exporter": "python",
   "pygments_lexer": "ipython3",
   "version": "3.10.8 | packaged by conda-forge | (main, Nov 24 2022, 14:07:00) [MSC v.1916 64 bit (AMD64)]"
  },
  "vscode": {
   "interpreter": {
    "hash": "42b2f54048e729699c212decb235f393fd0cdb8b24a5008a47c48e8faa6a3c0d"
   }
  }
 },
 "nbformat": 4,
 "nbformat_minor": 4
}
