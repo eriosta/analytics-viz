{
 "cells": [
  {
   "cell_type": "code",
   "execution_count": null,
   "metadata": {},
   "outputs": [],
   "source": [
    "# Firstname Lastname\n",
    "# abc123"
   ]
  },
  {
   "cell_type": "markdown",
   "metadata": {},
   "source": [
    "## Lab 4A\n",
    "\n",
    "Lab 4 consist of two exercises. This is the first exercise will cover JSON as well as some string processing, ```DataFrame```s, and plotting.\n",
    "\n",
    "In this exercise, you will write a program that reads an external JSON file and you will also visualize some of the content.\n",
    "\n",
    "\n",
    "### About the JSON File\n",
    "\n",
    "The JSON file ```prize.json``` contains data about nobel prizes retrieved from github.com.\n",
    "\n",
    "### Tasks \n",
    "\n",
    "You will do the following tasks:\n",
    "\n",
    "1. Read the file as a JSON.\n",
    "\n",
    "2. Traverse the JSON and extract the following data and add this data to a ```DataFrame``` with the following columns:\n",
    "    * Year\n",
    "    * Category\n",
    "    * Number of people who share a prize\n",
    "    * Watch out: sometimes several people share one prize.\n",
    "    \n",
    "    \n",
    "3. Traverse the data frame to find the number of total given nobel prizes in the different categories and show the result in a new data frame\n",
    "    * Display the data in a new DataFrame\n",
    "    \n",
    "    \n",
    "4. Traverse the data frame from task 2 to find the average number people who share a prize in the different categorieso\n",
    "    * Display the data in a new DataFrame\n",
    "    * use panda's groupby operation and mean method for this task\n",
    "\n",
    "5. Plot the following graphs with the average number of people sharing a nobel prize in the different categories\n",
    "     * bar plot (for the past 20 years)\n",
    "     * box plot for the entire time frame\n",
    "     * experiment with color palettes and styles of the graphs and create a second pair of the above graphs\n",
    "\n",
    "6. Answer the question below."
   ]
  },
  {
   "cell_type": "code",
   "execution_count": 8,
   "metadata": {},
   "outputs": [
    {
     "name": "stdout",
     "output_type": "stream",
     "text": [
      "Preview\n"
     ]
    },
    {
     "data": {
      "text/plain": [
       "Category\n",
       "chemistry     1.663934\n",
       "economics     1.685185\n",
       "literature    1.065574\n",
       "medicine      1.975410\n",
       "peace         1.336066\n",
       "physics       1.819672\n",
       "Name: People, dtype: float64"
      ]
     },
     "execution_count": 8,
     "metadata": {},
     "output_type": "execute_result"
    }
   ],
   "source": [
    "import pandas as pd\n",
    "import numpy as np\n",
    "import json\n",
    "import matplotlib.pyplot as plt\n",
    "import seaborn as sns\n",
    "\n",
    "#Starter Code\n",
    "f = open('prize.json', mode='r', encoding = 'utf-8-sig' )\n",
    "\n",
    "#loading the json file into a python dictionary\n",
    "j = json.load(f)\n",
    "\n",
    "# Flattening data nested in dictionary 'prizes'. The new dictionary is easier to handle\n",
    "new_j = pd.json_normalize(j['prizes']) \n",
    "\n",
    "#Creating a DataFrame from the data of the json file\n",
    "df = pd.DataFrame.from_dict(new_j)\n",
    "\n",
    "#Preparing a DataFrame I want to use for my data analysis\n",
    "final_dataframe = pd.DataFrame()\n",
    "#I need to list I build in a loop which I later add as a new column to my dataframe\n",
    "data = []\n",
    "\n",
    "#Extracting the needed data from the original DataFrame and the data to new DataFrame by traversing through the DataFrame line by line\n",
    "for index, rows in df.iterrows():\n",
    "    final_dataframe['Year'] = df['year']\n",
    "    final_dataframe['Category'] = df['category']\n",
    "    laureates_per_price = rows['laureates'] # Extracting only the needed data from the nested dictionary, step 1\n",
    "    if type( laureates_per_price ) == list: # Making shure its a proper entry\n",
    "        first_laureate = laureates_per_price[0] # Extracting the data from the nested dictionary, step 2\n",
    "    temp = int(first_laureate['share'])   # Extracting the data from the nested dictionary and making it integer value, step 3\n",
    "    data.append(temp)     # Writing that new data point into a list which I later add as a new column to my new DataFrame\n",
    "\n",
    "#Continue here with your code"
   ]
  },
  {
   "cell_type": "markdown",
   "metadata": {},
   "source": [
    "## Questions\n",
    "\n",
    "Answer the following question:\n",
    "\n",
    "1. When would you use a bar plot and when a box plot?"
   ]
  },
  {
   "cell_type": "markdown",
   "metadata": {},
   "source": [
    "## Answers\n",
    "\n",
    "Enter your responses here.\n"
   ]
  },
  {
   "cell_type": "code",
   "execution_count": null,
   "metadata": {},
   "outputs": [],
   "source": []
  }
 ],
 "metadata": {
  "kernelspec": {
   "display_name": "base",
   "language": "python",
   "name": "python3"
  },
  "language_info": {
   "codemirror_mode": {
    "name": "ipython",
    "version": 3
   },
   "file_extension": ".py",
   "mimetype": "text/x-python",
   "name": "python",
   "nbconvert_exporter": "python",
   "pygments_lexer": "ipython3",
   "version": "3.10.8"
  },
  "vscode": {
   "interpreter": {
    "hash": "42b2f54048e729699c212decb235f393fd0cdb8b24a5008a47c48e8faa6a3c0d"
   }
  }
 },
 "nbformat": 4,
 "nbformat_minor": 4
}
