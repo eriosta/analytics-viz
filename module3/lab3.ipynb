{
 "cells": [
  {
   "cell_type": "code",
   "execution_count": null,
   "metadata": {},
   "outputs": [],
   "source": [
    "# Firstname Lastname\n",
    "# abc123"
   ]
  },
  {
   "cell_type": "markdown",
   "metadata": {},
   "source": [
    "## Lab 3A\n",
    "\n",
    "<em>Lab 3 consists of an exercise on string processing with an emphasis in regular expressions. </em>\n",
    "\n",
    "In this lab, you will write a function that convert any imperial measurements within a sentence to metric. For example, if the original string said ```'This pencil was 2 inches long```, then the function will return ```'This pencil was 5 centimeters long'```. \n",
    "\n",
    "\n",
    "\n",
    "### Tasks\n",
    "\n",
    "1. Write a function ```convertString``` that will \"translate\" imperial measurements within a sentence to metric. It takes in one parameter ```sentence``` which is a descriptive sentence with an imperial measurement. It will return the same sentence but with the imperial measurement replaced with the metric equivalent. Use the methods from the RegEx (regular expression) module to modify the string.\n",
    "   - Convert inches to centimeters, feet and yards to meters, miles to kilometers, and °F to °C (Fahrenheit to Celsius).\n",
    "   - The function needs to also check for singular inputs like \"foot\" and \"inch\" and convert them to the metric units. The metric units can all be plural (meters, centimeters,...)\n",
    "   - Make sure the function can handle multiple values with different conversion factors in one sentence. \n",
    "   - Round the output value to the same number of significant figures which are originally used.\n",
    "   \n",
    "   \n",
    "2. Write a function which converts Fahreneht to Clesius. Use that function within the ```convertString``` function.\n",
    "\n",
    "3. Produce a table with the converted units. (just the units without the values)\n",
    "\n",
    "4. Add function comments.\n",
    "\n",
    "5. Run your function to test it and leave the outputs in your submitted notebook. Use the test cases provided below.\n",
    "\n",
    "4. The code has been started for you."
   ]
  },
  {
   "cell_type": "code",
   "execution_count": null,
   "metadata": {},
   "outputs": [],
   "source": [
    "# Use these conversions:\n",
    "#  1 inch = 2.54 centimeters\n",
    "#  1 foot = 0.3048 meters\n",
    "#  1 yard = 0.9144 meters\n",
    "#  1 mile = 1.60934 kilometers\n",
    "#  Convert Fahrenheit F to Celsius C = (F − 32) × 5/9\n",
    "\n",
    "\n",
    "import re\n",
    "\n",
    "def convertString( sentence ):\n",
    "    # Your code starts here\n",
    "    pass"
   ]
  },
  {
   "cell_type": "code",
   "execution_count": null,
   "metadata": {},
   "outputs": [],
   "source": [
    "# Here are some test cases with expected output\n",
    "print( convertString( '1 foot.' ) ) #0.3 meters\n",
    "print( convertString( 'This pencil was 2.8 inches long, but the tape measure is 25 yards.' ) ) # This pencil was 7.0 centimeters long, but the tape measure is 23 meters.\n",
    "print( convertString( 'In the US the Covid rules were to keep a distance of 6 feet. In Europe it was 1.5 meters.' ) ) # In the US the Covid rules were to keep a distance of 1.8 meters. In Europe it was 1.5 meters.\n",
    "\n",
    "# Test for 3. task\n",
    "print( convertString( 'I walked 26 miles and 400 feet to school each day. At a temperature of 30 °F that was no fun.' ) )\n",
    "\n"
   ]
  }
 ],
 "metadata": {
  "celltoolbar": "Create Assignment",
  "kernelspec": {
   "display_name": "base",
   "language": "python",
   "name": "python3"
  },
  "language_info": {
   "codemirror_mode": {
    "name": "ipython",
    "version": 3
   },
   "file_extension": ".py",
   "mimetype": "text/x-python",
   "name": "python",
   "nbconvert_exporter": "python",
   "pygments_lexer": "ipython3",
   "version": "3.10.8"
  },
  "vscode": {
   "interpreter": {
    "hash": "42b2f54048e729699c212decb235f393fd0cdb8b24a5008a47c48e8faa6a3c0d"
   }
  }
 },
 "nbformat": 4,
 "nbformat_minor": 4
}
