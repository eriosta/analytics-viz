{
 "cells": [
  {
   "cell_type": "code",
   "execution_count": null,
   "metadata": {},
   "outputs": [],
   "source": [
    "# Firstname Lastname\n",
    "# abc123"
   ]
  },
  {
   "cell_type": "markdown",
   "metadata": {},
   "source": [
    "## Lab 2B\n",
    "\n",
    "<em>Lab 2 consists of two exercises. This is the second of two exercises in Lab 2, which will cover ```DataFrame```s and Seaborn. This exercise will also use the Yahoo finance module. </em>\n",
    "\n",
    "In this exercise, you will investigate the trading around two popular stocks of 2021: AMC Entertainment (AMC) and GameStop (GME). \n",
    "\n",
    "### Tasks\n",
    "\n",
    "Complete the following tasks:\n",
    "\n",
    "1. The starter code has been created for you. \n",
    "2. Using the Yahoo Finance module, download the stock data for the stocks AMC and GME between December 1, 2021 and around the day you started this exercise (June or July 2021) in intervals of one day. You will focus only on the ```Close``` price and ```Volume``` traded. \n",
    "3. Using the data downloaded from ```yfinance```, create a new ```DataFrame``` that contains these five columns: ```Day```, ```AMC Close```, ```AMC Volume```, ```GME Close```, and```GME Volume```. Note the index for the ```DataFrame``` is the YYYY-MM-DD date, but you will need to make it a column. \n",
    "4. Apply ```pd.melt()``` to this new ```DataFrame``` created in Step 3, such that the ```Day``` column is kept. The variable column will contain either ```AMC Close```, ```AMC Volume```, ```GME Close```, and```GME Volume```. Rename this column to ```'Type'```. The values column will contain either the closing price or the volume traded for the respective stock on that day. \n",
    "5. Create a FacetGrid of four lineplots on the stock data using the ```DataFrame``` generated in Step 4. Each lineplot will show either the closing prices or volume traded over the days within the time frame. The FacetGrid will separate the lineplots on the four different types of information: ```AMC Close```, ```AMC Volume```, ```GME Close```, and```GME Volume``` Set the ```suptitle``` to 'AMC and GME between Dec 2020 and Jun 2021'. The dates will be plotted on the x axis. The y axis will be ```Close``` price or ```Volume``` traded. \n",
    "6. Create two Seaborn scatterplots to explore the relationships between AMC and GME stocks. The first scatterplot will show the relationship between the ```AMC Close``` prices versus the ```GME Close``` prices. Set the title of this scatterplot to 'AMC versus GME Closing Prices'. The second scatterplot will show the relationship between the ```AMC Volume``` versus the ```GME Volume```. Set the ```suptitle``` to 'AMC and GME between Dec 2020 and Jun 2021'. Set the title of this scatterplot to 'AMC versus GME Volumes'.\n",
    "7. Answer the questions below."
   ]
  },
  {
   "cell_type": "code",
   "execution_count": 3,
   "metadata": {},
   "outputs": [
    {
     "name": "stdout",
     "output_type": "stream",
     "text": [
      "[*********************100%***********************]  2 of 2 completed\n"
     ]
    }
   ],
   "source": [
    "import pandas as pd\n",
    "import yfinance as yf\n",
    "import matplotlib.pyplot as plt\n",
    "import seaborn as sns\n",
    "\n",
    "# Data organization tasks go here\n",
    "\n",
    "# Sample yfinance code - adapt as needed\n",
    "# Downloads the stock data for AAPL and TSLA between March 1, 2020 and March 30, 2020\n",
    "# in intervals of one day. It will be saved into a variable named df which is a DataFrame.\n",
    "df = yf.download( tickers=['AAPL','TSLA'], start='2020-03-01', \\\n",
    "                         end='2020-03-30', interval='1d' )"
   ]
  },
  {
   "cell_type": "code",
   "execution_count": 4,
   "metadata": {},
   "outputs": [],
   "source": [
    "# FacetGrid goes here"
   ]
  },
  {
   "cell_type": "code",
   "execution_count": 5,
   "metadata": {},
   "outputs": [],
   "source": [
    "# Scatterplot goes here"
   ]
  },
  {
   "cell_type": "markdown",
   "metadata": {},
   "source": [
    "### Questions\n",
    "\n",
    "Answer the following questions:\n",
    "\n",
    "1. Looking at your FacetGrid, identify any major spikes and/or dips in the closing prices or volume traded. Around what months/days does this occur? There may be several.\n",
    "\n",
    "2. Search for some newsources to find out what happened during these times with respect to the AMC and GME that could account for the major spikes and/or dips. In a few sentences, provide an explanation of what was happening with these stocks. Include the reference(s) in your response. \n",
    "\n",
    "3. Looking at your Scatterplot, does there appear to be any relationship between the AMC and GME stocks with respect to closing prices and/or volume?\n",
    "\n",
    "4. If a relationships does occur between the AMC and GME stocks with respect to the closing prices and/or volume, search for some newsources to find out anything that would relate AMC to GME and/or vice versa. In a few sentences, provide an explanation of how these two stocks might be related. Include the reference(s) in your response. "
   ]
  },
  {
   "cell_type": "markdown",
   "metadata": {},
   "source": [
    "### Answers\n",
    "\n",
    "Write your answers here."
   ]
  }
 ],
 "metadata": {
  "kernelspec": {
   "display_name": "base",
   "language": "python",
   "name": "python3"
  },
  "language_info": {
   "codemirror_mode": {
    "name": "ipython",
    "version": 3
   },
   "file_extension": ".py",
   "mimetype": "text/x-python",
   "name": "python",
   "nbconvert_exporter": "python",
   "pygments_lexer": "ipython3",
   "version": "3.10.8 | packaged by conda-forge | (main, Nov 24 2022, 14:07:00) [MSC v.1916 64 bit (AMD64)]"
  },
  "vscode": {
   "interpreter": {
    "hash": "42b2f54048e729699c212decb235f393fd0cdb8b24a5008a47c48e8faa6a3c0d"
   }
  }
 },
 "nbformat": 4,
 "nbformat_minor": 4
}
