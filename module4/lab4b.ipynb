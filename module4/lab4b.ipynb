{
 "cells": [
  {
   "cell_type": "code",
   "execution_count": 130,
   "metadata": {},
   "outputs": [],
   "source": [
    "# Firstname Lastname\n",
    "# abc123"
   ]
  },
  {
   "cell_type": "markdown",
   "metadata": {},
   "source": [
    "## Lab 4B\n",
    "\n",
    "Lab 4 consists of two exercises on reading in data from external CSV and JSON files into Pandas DataFrames.\n",
    "\n",
    "### Tasks\n",
    "\n",
    "In this exercise, you will analyze in 2019 data on FIFA soccer players' data. You will read in these data in the ```fifa2019.csv``` CSV file data into a Pandas dataframe. The tasks are:\n",
    "\n",
    "1. Clean the data\n",
    "2. First analysis - Overall rating versus wage\n",
    "3. Second analysis - Overall rating per club\n",
    "4. Third analysis - Distribution of wages in highest waged clubs\n",
    "\n",
    "More information is provided below on each of these tasks. \n",
    "\n",
    "#### Clean the Data\n",
    "\n",
    "Read the ```fifa2019.csv``` capturing only the ```ID```, ```Club```, ```Overall```, ```Wage```, ```Position``` columns into a Pandas dataframe. \n",
    "\n",
    "Clean the data in the following manner:\n",
    "\n",
    "1. ```Wage``` is a monetary amount shown in Euros (€). Wages also include ```K``` to represent thousands of Euros. Remove the ```'K'``` from the string.\n",
    "\n",
    "2. Remove any player who does not belong to a club and any player who makes 0 Euros in ```Wage```. Players that aren't assigned to a club are the same players who make 0 Euros. \n",
    "\n",
    "3. Ultimately, the ```Overall``` and ```Wage``` should be integers. \n",
    "\n",
    "#### First Analysis\n",
    "\n",
    "Investigate the relationship between a player's ```Overall``` rating compared to their ```Wage```. Plot this data as a scatterplot with the x axis representing the ```Overall``` rating and the y axis representing the ```Wage``` (in 100Ks).\n",
    "\n",
    "#### Second Analysis\n",
    "\n",
    "Investigate the data based on the club in terms of average ```Overall``` rating of all players in that club. Plot these data as a bar graph for the top 10 clubs in terms of average ```Overall``` rating. The x axis will be the ```Club```. The y axis will be the average ```Overall``` in <strong>descending</strong> order, which will help you determine the highest valued teams in terms of their players. \n",
    "\n",
    "This task will require you to group the ```DataFrame``` by ```Club```. You may also need to create a new ```DataFrame``` for to create this plot. \n",
    "\n",
    "#### Third Analysis\n",
    "\n",
    "Investigate the distribution of salaries for the top 10 clubs in terms of average ```Wage```. \n",
    "You may need to create a new ```DataFrame``` to create this plot. Plot these data on scatterplot or stripplot on top of a boxplot to show the distribution of data. The y axis will be the ```Club``` while the x axis will be the ```Wage```. \n",
    "\n",
    "This task will require you to group the ```DataFrame``` by ```Club```. You may also need to create a new ```DataFrame``` for to create this plot. "
   ]
  },
  {
   "cell_type": "code",
   "execution_count": 1,
   "metadata": {},
   "outputs": [],
   "source": [
    "import pandas as pd\n",
    "import numpy as np\n",
    "import matplotlib.pyplot as plt\n",
    "import seaborn as sns"
   ]
  },
  {
   "cell_type": "code",
   "execution_count": 2,
   "metadata": {},
   "outputs": [],
   "source": [
    "# Read the CSV fle here\n",
    "\n",
    "# Clean the data such that:\n",
    "# 1. Remove K from the wages\n",
    "# 2. Remove players who do not belong to a club and players who make 0 Euros in Wages\n",
    "# 3. Convert Overall and Wage to integers\n",
    "\n",
    "# Each of the tasks below will require you to work with and use modified versions of\n",
    "# the original DataFrames"
   ]
  },
  {
   "cell_type": "code",
   "execution_count": 1,
   "metadata": {},
   "outputs": [],
   "source": [
    "# First analysis plot goes here:  Overall rating compared to their wage"
   ]
  },
  {
   "cell_type": "code",
   "execution_count": 3,
   "metadata": {},
   "outputs": [],
   "source": [
    "# Second analysis plot goes here:  Wage and Value of all players by club"
   ]
  },
  {
   "cell_type": "code",
   "execution_count": null,
   "metadata": {},
   "outputs": [],
   "source": [
    "# Third analysis plot goes ehre:  Distribution of wages by club"
   ]
  },
  {
   "cell_type": "markdown",
   "metadata": {},
   "source": [
    "## Questions\n",
    "\n",
    "1. What is the relationship between a player's Overall rating compared to their Wage? Is there any significant relationship between a player's rating and their wage?\n",
    "\n",
    "2. Which clubs has the highest player Overall ratings on average? Find some information on one of the top three clubs in the barplot and report any information about the success of those clubs around 2019. \n",
    "\n",
    "3. Which clubs have the smallest and largest distribution in terms of wages? Are there any extreme outliers in this data? What information can you find about those outliers in terms of how extreme their wages are compared to the rest of the club?"
   ]
  },
  {
   "cell_type": "markdown",
   "metadata": {},
   "source": [
    "## Answers\n",
    "\n",
    "Enter your responses here"
   ]
  },
  {
   "cell_type": "code",
   "execution_count": null,
   "metadata": {},
   "outputs": [],
   "source": []
  }
 ],
 "metadata": {
  "kernelspec": {
   "display_name": "base",
   "language": "python",
   "name": "python3"
  },
  "language_info": {
   "codemirror_mode": {
    "name": "ipython",
    "version": 3
   },
   "file_extension": ".py",
   "mimetype": "text/x-python",
   "name": "python",
   "nbconvert_exporter": "python",
   "pygments_lexer": "ipython3",
   "version": "3.10.8"
  },
  "vscode": {
   "interpreter": {
    "hash": "42b2f54048e729699c212decb235f393fd0cdb8b24a5008a47c48e8faa6a3c0d"
   }
  }
 },
 "nbformat": 4,
 "nbformat_minor": 4
}
