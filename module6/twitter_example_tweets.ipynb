{
 "cells": [
  {
   "cell_type": "code",
   "execution_count": 2,
   "id": "acb3d329",
   "metadata": {},
   "outputs": [
    {
     "name": "stdout",
     "output_type": "stream",
     "text": [
      "Number of rows: 602, Number of columns: 4\n"
     ]
    }
   ],
   "source": [
    "import pandas as pd\n",
    "import json\n",
    "from textblob import TextBlob\n",
    "import operator \n",
    "import networkx as nx\n",
    "import matplotlib.pyplot as plt\n",
    "\n",
    "# Load the CSV file into a pandas dataframe\n",
    "df = pd.read_csv('tweets_hashtag_Putin.csv')\n",
    "\n",
    "# Print the number of rows and columns in the dataset\n",
    "print(f\"Number of rows: {len(df)}, Number of columns: {len(df.columns)}\")\n"
   ]
  },
  {
   "cell_type": "code",
   "execution_count": 3,
   "id": "05246efc",
   "metadata": {},
   "outputs": [
    {
     "name": "stdout",
     "output_type": "stream",
     "text": [
      "The most active Twitter user during this time frame is Asiyatu4.\n"
     ]
    }
   ],
   "source": [
    "# Group the dataframe by the 'user_name' column and count the number of rows for each group\n",
    "user_counts = df.groupby('user_name').size().reset_index(name='counts')\n",
    "\n",
    "# Sort the resulting dataframe in descending order by the count column\n",
    "user_counts = user_counts.sort_values('counts', ascending=False)\n",
    "\n",
    "# Print the user with the highest number of posts\n",
    "most_active_user = user_counts.iloc[0]['user_name']\n",
    "print(f\"The most active Twitter user during this time frame is {most_active_user}.\")"
   ]
  },
  {
   "cell_type": "code",
   "execution_count": 4,
   "id": "474538da",
   "metadata": {},
   "outputs": [
    {
     "name": "stdout",
     "output_type": "stream",
     "text": [
      "The average polarity for all tweets is 0.03.\n",
      "The average subjectivity for all tweets is 0.29.\n"
     ]
    }
   ],
   "source": [
    "# Initialize running totals for polarity and subjectivity\n",
    "polarity_total = 0\n",
    "subjectivity_total = 0\n",
    "\n",
    "# Loop through each tweet in the dataframe\n",
    "for index, row in df.iterrows():\n",
    "    # Use TextBlob to perform sentiment analysis on the tweet text\n",
    "    blob = TextBlob(row['text'])\n",
    "    # Add the polarity and subjectivity values to running totals\n",
    "    polarity_total += blob.sentiment.polarity\n",
    "    subjectivity_total += blob.sentiment.subjectivity\n",
    "\n",
    "# Calculate the average polarity and subjectivity for all tweets\n",
    "num_tweets = len(df)\n",
    "avg_polarity = polarity_total / num_tweets\n",
    "avg_subjectivity = subjectivity_total / num_tweets\n",
    "\n",
    "# Print the results\n",
    "print(f\"The average polarity for all tweets is {avg_polarity:.2f}.\")\n",
    "print(f\"The average subjectivity for all tweets is {avg_subjectivity:.2f}.\")"
   ]
  },
  {
   "cell_type": "code",
   "execution_count": 8,
   "id": "b7a46b78",
   "metadata": {},
   "outputs": [
    {
     "name": "stdout",
     "output_type": "stream",
     "text": [
      "The user with the highest in-degree centrality is RussianEmbassy.\n",
      "The user with the highest out-degree centrality is Mousstach.\n"
     ]
    }
   ],
   "source": [
    "# Create an empty directed graph\n",
    "graph = nx.DiGraph()\n",
    "\n",
    "# Loop through each tweet in the dataframe\n",
    "for index, row in df.iterrows():\n",
    "    # Add the user and mention nodes to the graph if they don't already exist\n",
    "    user = row['user_name']\n",
    "    if not graph.has_node(user):\n",
    "        graph.add_node(user)\n",
    "    mentions = row['mentions']\n",
    "    if mentions != '[]':\n",
    "        # Replace the string \"[]\" with an empty list\n",
    "        mentions = mentions.replace(\"'\", '\"')\n",
    "        mentions = json.loads(mentions)\n",
    "        for mention in mentions:\n",
    "            if not graph.has_node(mention):\n",
    "                graph.add_node(mention)\n",
    "            # Add a directed edge from the user to the mention\n",
    "            graph.add_edge(user, mention)\n",
    "\n",
    "\n",
    "# Calculate the in-degree and out-degree centrality measures for each node\n",
    "in_degree_centrality = nx.in_degree_centrality(graph)\n",
    "out_degree_centrality = nx.out_degree_centrality(graph)\n",
    "\n",
    "# Find the user with the highest in-degree centrality and the highest out-degree centrality\n",
    "highest_in_degree = max(in_degree_centrality.items(), key=operator.itemgetter(1))[0]\n",
    "highest_out_degree = max(out_degree_centrality.items(), key=operator.itemgetter(1))[0]\n",
    "\n",
    "# Print the results\n",
    "print(f\"The user with the highest in-degree centrality is {highest_in_degree}.\")\n",
    "print(f\"The user with the highest out-degree centrality is {highest_out_degree}.\")\n"
   ]
  }
 ],
 "metadata": {
  "kernelspec": {
   "display_name": "Python 3 (ipykernel)",
   "language": "python",
   "name": "python3"
  },
  "language_info": {
   "codemirror_mode": {
    "name": "ipython",
    "version": 3
   },
   "file_extension": ".py",
   "mimetype": "text/x-python",
   "name": "python",
   "nbconvert_exporter": "python",
   "pygments_lexer": "ipython3",
   "version": "3.9.7"
  }
 },
 "nbformat": 4,
 "nbformat_minor": 5
}
