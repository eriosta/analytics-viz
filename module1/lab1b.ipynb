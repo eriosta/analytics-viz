{
 "cells": [
  {
   "cell_type": "code",
   "execution_count": 1,
   "metadata": {},
   "outputs": [],
   "source": [
    "# Eri Osta\n",
    "# ads829"
   ]
  },
  {
   "cell_type": "markdown",
   "metadata": {},
   "source": [
    "## Lab 1B - Standard Deviation\n",
    "\n",
    "<em>Lab 1 consist of three exercises. This is the second of three exercises in Lab 1, which is on lists, functions, and math functions.</em>\n",
    "\n",
    "This exercise will complete the code that will <strong>manually calculate</strong> the average and sample standard deviation within a 2D list. \n",
    "\n",
    "**Tasks**\n",
    "\n",
    "For this exercise, you must use the variable names listed in the tasks below:\n",
    "\n",
    "\n",
    "1. Two lists have been declared for you. ```values``` is a 2D list of integer values. You can change the numbers in the ```values```, but the solution provided below is for the default numbers provided in the notebook template. ```results``` is a 2D list consisting of the average and sample standard deviation for each row in the ```values``` list. For example, the first row in  ```results``` will have the average and sample standard deviation for the first row in ```values```. To start,  ```results``` is an empty list.\n",
    "\n",
    "2. ```getAverage``` is a function that takes in a list of values as its parameter ```mylist```. ```mylist``` is intended to be a row within a 2D list of integers for this program. The function will compute the average and return it. Most of this function has been completed for you.\n",
    "\n",
    "3. Complete the ```getStandardDeviation``` function. It takes in a list of values as its parameter ```mylist```. The function will need to call ```getAverage```. The function will compute the standard deviation and return it. If the length of the list is less than 2, return a -999 in it. The formula for the sample standard deviation is:\n",
    "\n",
    "$$ \n",
    "\\sqrt{ \\frac{\\sum_{i=1}^{N} ( x_{i} - \\bar{x} )^2}{N-1} }\n",
    "$$\n",
    "\n",
    "4. Complete the ```getResults``` function. It takes in a 2D list of integers  ```data_list``` and an empty list  ```stat_results``` as its parameters. The function will go through each sub-list in ```data_list``` and get the average and the standard deviation and append it to the ```stat_results``` list. ```stat_results``` will be a 2D list with each sub-list including two elements: average and standard deviation for the corresponding sub-list in ```data_list```. See below for an example.\n",
    "\n",
    "5. Function comments have been added for you."
   ]
  },
  {
   "cell_type": "code",
   "execution_count": 2,
   "metadata": {},
   "outputs": [],
   "source": [
    "from math import sqrt\n",
    "\n",
    "def getAverage( mylist ):\n",
    "    \"\"\"\n",
    "    This function computes the average of a list of numbers.\n",
    "\n",
    "    Parameters\n",
    "    ----------\n",
    "    mylist : list of int\n",
    "        One dimensional list of integers you will find the average of\n",
    "\n",
    "    Returns\n",
    "    -------\n",
    "    float\n",
    "        The average of the integers in the list\n",
    "    \"\"\"\n",
    "    return sum(mylist)/len(mylist)\n",
    "\n",
    "def getStandardDeviation( mylist ):\n",
    "    \"\"\"\n",
    "    This function computes the standard deviation in a list of numbers. It is assumed\n",
    "    that you will have already called the getAverage function prior to calling this \n",
    "    function.\n",
    "    \n",
    "    Parameters\n",
    "    ----------\n",
    "    mylist : list of int\n",
    "        One dimensional list of integers you will find the standard deviation of\n",
    "        \n",
    "    average : float\n",
    "        Average of the list of integers\n",
    "\n",
    "    Returns\n",
    "    -------\n",
    "    float\n",
    "        The standard deviation of the integers in the list.\n",
    "    \"\"\"\n",
    "    tmp=[]\n",
    "    for i in mylist:\n",
    "        tmp.append((i - getAverage(mylist))**2)\n",
    "    return sqrt( sum(tmp) / (len(mylist) - 1) )\n",
    "\n",
    "def getResults( data_list, stat_results ):\n",
    "    \"\"\"\n",
    "    This function creates a two-dimensional list stored in the parameter\n",
    "    stat_results. Each sublist will contain two entries: the average and the\n",
    "    standard deviation for each corresponding sub-list in data_list. \n",
    "    \n",
    "    Parameters\n",
    "    ----------\n",
    "    data_list : list of int\n",
    "        Two dimensional list of integers you will find the average and standard\n",
    "        deviation of\n",
    "        \n",
    "    stat_results : list of float\n",
    "        Two dimensional list of floats which include averages and standard\n",
    "        deviations\n",
    "\n",
    "    Returns\n",
    "    -------\n",
    "    None\n",
    "    \"\"\"\n",
    "    for ls in data_list:\n",
    "        stat_results.append([getAverage(ls), getStandardDeviation(ls)])"
   ]
  },
  {
   "cell_type": "code",
   "execution_count": 3,
   "metadata": {},
   "outputs": [
    {
     "name": "stdout",
     "output_type": "stream",
     "text": [
      "[[5.75, 1.5], [7.0, 5.0], [3.0, 0.0]]\n"
     ]
    }
   ],
   "source": [
    "# Sample test code \n",
    "values = [ [ 5, 7, 4, 7 ], [ 12, 2, 7 ], [ 3, 3, 3, 3 ] ]\n",
    "results = [] # This list must start out as an empty list\n",
    "getResults( values, results )   \n",
    "print( results )\n",
    "\n",
    "# With the original values list [ [ 5, 7, 4, 7 ], [ 12, 2, 7 ], [ 3, 3, 3, 3 ] ]\n",
    "# You should get [[5.75, 1.5], [7.0, 5.0], [3.0, 0.0]] as the result"
   ]
  }
 ],
 "metadata": {
  "celltoolbar": "Create Assignment",
  "kernelspec": {
   "display_name": "base",
   "language": "python",
   "name": "python3"
  },
  "language_info": {
   "codemirror_mode": {
    "name": "ipython",
    "version": 3
   },
   "file_extension": ".py",
   "mimetype": "text/x-python",
   "name": "python",
   "nbconvert_exporter": "python",
   "pygments_lexer": "ipython3",
   "version": "3.10.8"
  },
  "vscode": {
   "interpreter": {
    "hash": "42b2f54048e729699c212decb235f393fd0cdb8b24a5008a47c48e8faa6a3c0d"
   }
  }
 },
 "nbformat": 4,
 "nbformat_minor": 4
}
